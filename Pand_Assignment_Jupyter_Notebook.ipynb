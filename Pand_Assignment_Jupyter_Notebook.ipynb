{
 "cells": [
  {
   "cell_type": "markdown",
   "metadata": {
    "collapsed": true
   },
   "source": [
    "<h1>My Jupyter Notebook on IBM Watson Studio </h1>"
   ]
  },
  {
   "cell_type": "markdown",
   "metadata": {},
   "source": [
    "<h2>Pandurangan Gopalakrishnan</h2>\n",
    "\n",
    "Desired occupation is Lead Data Scientist"
   ]
  },
  {
   "cell_type": "markdown",
   "metadata": {},
   "source": [
    "_I am keen change my career from a network architect to a data scientist, since I more interested in programmaic aspect along with keen eye for various data in this world. The key item I wish to take up in climate modelling nad prediction for a location based on number of input variables._"
   ]
  },
  {
   "cell_type": "markdown",
   "metadata": {},
   "source": [
    "The code in the cell below executes simple loop for an integer variable printing values between 0 and 10."
   ]
  },
  {
   "cell_type": "code",
   "execution_count": 5,
   "metadata": {},
   "outputs": [
    {
     "name": "stdout",
     "output_type": "stream",
     "text": [
      "The current value of x: 0\n",
      "The current value of x: 1\n",
      "The current value of x: 2\n",
      "The current value of x: 3\n",
      "The current value of x: 4\n",
      "The current value of x: 5\n",
      "The current value of x: 6\n",
      "The current value of x: 7\n",
      "The current value of x: 8\n",
      "The current value of x: 9\n",
      "The current value of x: 10\n",
      "!!!Loop execution completed successfully!!!\n"
     ]
    }
   ],
   "source": [
    "x = 0\n",
    "while (x <= 10):\n",
    "    print(\"The current value of x:\",x)\n",
    "    x = x +1\n",
    "print(\"!!!Loop execution completed successfully!!!\")"
   ]
  },
  {
   "cell_type": "markdown",
   "metadata": {},
   "source": [
    "<hr>\n",
    "<b>Numbered List</b>\n",
    "<ol type=\"1\">\n",
    "   <li>Apple</li>\n",
    "   <li>Orange</li>\n",
    "   <li>Mango</li>\n",
    "   <li>Mandarin</li>\n",
    "</ol>\n",
    "<hr>\n",
    "<b>Bulleted unordered List</b>\n",
    "<ul>\n",
    "  <li>Table</li>\n",
    "  <li>Chair</li>\n",
    "  <li>Sofa</li>\n",
    "  <li>Television</li>\n",
    "  <li>Radio</li>\n",
    "</ul>\n",
    "<hr>\n",
    "<b>Table</b>\n",
    "<table>\n",
    "  <tr>\n",
    "    <th>First</th>\n",
    "    <th>Name</th>\n",
    "    <th>Country</th>\n",
    "  </tr>\n",
    "  <tr>\n",
    "    <td>Pand</td>\n",
    "    <td>Gopal</td>\n",
    "    <td>Australia</td>\n",
    "  </tr>\n",
    "  <tr>\n",
    "    <td>Ravi</td>\n",
    "    <td>Ramasamy</td>\n",
    "    <td>India</td>\n",
    "  </tr>\n",
    "  <tr>\n",
    "    <td>Fumi</td>\n",
    "    <td>Kimura</td>\n",
    "    <td>Japan</td>\n",
    "  </tr>\n",
    "  <tr>\n",
    "    <td>Yin</td>\n",
    "    <td>Chu</td>\n",
    "    <td>China</td>\n",
    "  </tr>\n",
    "</table>\n",
    "<hr>"
   ]
  },
  {
   "cell_type": "code",
   "execution_count": null,
   "metadata": {},
   "outputs": [],
   "source": []
  }
 ],
 "metadata": {
  "kernelspec": {
   "display_name": "Python 3.10",
   "language": "python",
   "name": "python3"
  },
  "language_info": {
   "codemirror_mode": {
    "name": "ipython",
    "version": 3
   },
   "file_extension": ".py",
   "mimetype": "text/x-python",
   "name": "python",
   "nbconvert_exporter": "python",
   "pygments_lexer": "ipython3",
   "version": "3.10.6"
  }
 },
 "nbformat": 4,
 "nbformat_minor": 1
}
